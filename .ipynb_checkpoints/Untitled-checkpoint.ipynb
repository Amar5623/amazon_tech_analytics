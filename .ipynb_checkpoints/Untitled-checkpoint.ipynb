{
 "cells": [
  {
   "cell_type": "code",
   "execution_count": 2,
   "id": "e271d52c-b136-49ed-b73f-422239f82a5b",
   "metadata": {},
   "outputs": [
    {
     "name": "stdout",
     "output_type": "stream",
     "text": [
      "Collecting lxml\n",
      "  Downloading lxml-5.4.0-cp312-cp312-win_amd64.whl.metadata (3.6 kB)\n",
      "Downloading lxml-5.4.0-cp312-cp312-win_amd64.whl (3.8 MB)\n",
      "   ---------------------------------------- 0.0/3.8 MB ? eta -:--:--\n",
      "   ---------------------------------------- 0.0/3.8 MB ? eta -:--:--\n",
      "   ---------------------------------------- 0.0/3.8 MB ? eta -:--:--\n",
      "   -- ------------------------------------- 0.3/3.8 MB ? eta -:--:--\n",
      "   ----- ---------------------------------- 0.5/3.8 MB 730.2 kB/s eta 0:00:05\n",
      "   ----- ---------------------------------- 0.5/3.8 MB 730.2 kB/s eta 0:00:05\n",
      "   -------- ------------------------------- 0.8/3.8 MB 763.2 kB/s eta 0:00:04\n",
      "   ---------- ----------------------------- 1.0/3.8 MB 825.2 kB/s eta 0:00:04\n",
      "   ---------- ----------------------------- 1.0/3.8 MB 825.2 kB/s eta 0:00:04\n",
      "   ------------- -------------------------- 1.3/3.8 MB 818.6 kB/s eta 0:00:04\n",
      "   ---------------- ----------------------- 1.6/3.8 MB 839.1 kB/s eta 0:00:03\n",
      "   ------------------- -------------------- 1.8/3.8 MB 860.4 kB/s eta 0:00:03\n",
      "   ------------------- -------------------- 1.8/3.8 MB 860.4 kB/s eta 0:00:03\n",
      "   --------------------- ------------------ 2.1/3.8 MB 876.7 kB/s eta 0:00:02\n",
      "   --------------------- ------------------ 2.1/3.8 MB 876.7 kB/s eta 0:00:02\n",
      "   --------------------- ------------------ 2.1/3.8 MB 876.7 kB/s eta 0:00:02\n",
      "   ------------------------ --------------- 2.4/3.8 MB 762.6 kB/s eta 0:00:02\n",
      "   ------------------------ --------------- 2.4/3.8 MB 762.6 kB/s eta 0:00:02\n",
      "   --------------------------- ------------ 2.6/3.8 MB 736.6 kB/s eta 0:00:02\n",
      "   --------------------------- ------------ 2.6/3.8 MB 736.6 kB/s eta 0:00:02\n",
      "   ------------------------------ --------- 2.9/3.8 MB 735.9 kB/s eta 0:00:02\n",
      "   -------------------------------- ------- 3.1/3.8 MB 741.3 kB/s eta 0:00:01\n",
      "   -------------------------------- ------- 3.1/3.8 MB 741.3 kB/s eta 0:00:01\n",
      "   ----------------------------------- ---- 3.4/3.8 MB 751.3 kB/s eta 0:00:01\n",
      "   -------------------------------------- - 3.7/3.8 MB 760.0 kB/s eta 0:00:01\n",
      "   ---------------------------------------- 3.8/3.8 MB 753.5 kB/s eta 0:00:00\n",
      "Installing collected packages: lxml\n",
      "Successfully installed lxml-5.4.0\n"
     ]
    },
    {
     "name": "stderr",
     "output_type": "stream",
     "text": [
      "\n",
      "[notice] A new release of pip is available: 24.3.1 -> 25.1\n",
      "[notice] To update, run: python.exe -m pip install --upgrade pip\n"
     ]
    }
   ],
   "source": [
    "!pip install lxml"
   ]
  },
  {
   "cell_type": "code",
   "execution_count": 5,
   "id": "585c7988-f912-4fb3-b07e-2a6408125ba7",
   "metadata": {},
   "outputs": [
    {
     "name": "stdout",
     "output_type": "stream",
     "text": [
      "5.4.0\n"
     ]
    }
   ],
   "source": [
    "import lxml\n",
    "print(lxml.__version__)"
   ]
  },
  {
   "cell_type": "code",
   "execution_count": 11,
   "id": "757a9447-f02c-4349-b108-6ac98af1bf44",
   "metadata": {},
   "outputs": [
    {
     "name": "stdout",
     "output_type": "stream",
     "text": [
      "<Response [503]>\n",
      "Product Links: []\n"
     ]
    }
   ],
   "source": [
    "import requests\n",
    "from lxml import etree\n",
    "\n",
    "# Fetch the HTML content\n",
    "url = \"https://www.amazon.in/s?k=laptops&crid=1UAMGNAA3IP3H&sprefix=laptops%2Caps%2C496&ref=nb_sb_noss_2\"\n",
    "headers = {\n",
    "    \"User-Agent\": \"Mozilla/5.0 (Windows NT 10.0; Win64; x64) AppleWebKit/537.36 (KHTML, like Gecko) Chrome/135.0.0.0 Safari/537.36 Edg/135.0.0.0\"\n",
    "}\n",
    "\n",
    "response = requests.get(url, headers=headers)\n",
    "print(response)\n",
    "html_content = response.text\n",
    "\n",
    "# Parse the HTML content with lxml\n",
    "tree = etree.HTML(html_content)\n",
    "\n",
    "# Extract links using XPath\n",
    "links = tree.xpath('//*[@id=\"352f6ed9-383a-4bb9-917f-f7f26a26c470\"]/div/div/div/div/span/div/div/div/div[2]/div/div/div[1]/a')\n",
    "\n",
    "# Print the extracted links\n",
    "print(\"Product Links:\", links)"
   ]
  },
  {
   "cell_type": "code",
   "execution_count": null,
   "id": "506876dc-832e-4b6b-b890-b690a104bd87",
   "metadata": {},
   "outputs": [],
   "source": []
  }
 ],
 "metadata": {
  "kernelspec": {
   "display_name": "Python 3 (ipykernel)",
   "language": "python",
   "name": "python3"
  },
  "language_info": {
   "codemirror_mode": {
    "name": "ipython",
    "version": 3
   },
   "file_extension": ".py",
   "mimetype": "text/x-python",
   "name": "python",
   "nbconvert_exporter": "python",
   "pygments_lexer": "ipython3",
   "version": "3.12.4"
  }
 },
 "nbformat": 4,
 "nbformat_minor": 5
}
